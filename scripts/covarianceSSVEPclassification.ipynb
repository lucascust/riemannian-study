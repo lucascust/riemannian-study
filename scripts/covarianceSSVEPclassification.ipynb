{
 "cells": [
  {
   "cell_type": "code",
   "execution_count": null,
   "metadata": {
    "collapsed": false
   },
   "outputs": [],
   "source": [
    "from __future__ import print_function\n",
    "from numpy import nan_to_num, array, empty_like, empty, vstack, concatenate, linspace, tile\n",
    "from scipy.signal import filtfilt, butter\n",
    "import matplotlib.pyplot as plt\n",
    "import pickle\n",
    "import gzip"
   ]
  },
  {
   "cell_type": "code",
   "execution_count": null,
   "metadata": {
    "collapsed": true
   },
   "outputs": [],
   "source": [
    "%matplotlib inline"
   ]
  },
  {
   "cell_type": "markdown",
   "metadata": {},
   "source": [
    "## Classifying extended SSVEP covariance matrices for EEG-based BCI"
   ]
  },
  {
   "cell_type": "code",
   "execution_count": null,
   "metadata": {
    "collapsed": false
   },
   "outputs": [],
   "source": [
    "## Code made to a created matrix model, don't work with raw signal\n",
    "\n",
    "# with gzip.open('../data/record-[2014.03.10-19.47.49].pz', 'rb') as f:\n",
    "#     o = pickle.load(f)\n",
    "# cov_train = o['cov_train']\n",
    "# cov_test = o['cov_test']\n",
    "# y_train = o['y_train']\n",
    "# y_test = o['y_test']\n",
    "# classes = o['classes']"
   ]
  },
  {
   "source": [
    "## Computing mean covariance for each class\n",
    "To estimate the mean covariance, this notebook relies on the implementation of [pyRiemann](https://github.com/alexandrebarachant/pyRiemann). The function mean_riemann takes a numpy ndarray of shape (n_sample, n_dim, n_dim), where n_sample is the number of covariance matrices used to compute the mean and n_dim is the size of the covariance matrices. "
   ],
   "cell_type": "markdown",
   "metadata": {}
  },
  {
   "cell_type": "code",
   "execution_count": null,
   "metadata": {
    "collapsed": true
   },
   "outputs": [],
   "source": [
    "from pyriemann.utils.mean import mean_riemann"
   ]
  },
  {
   "cell_type": "code",
   "execution_count": null,
   "metadata": {
    "collapsed": true
   },
   "outputs": [],
   "source": [
    "# Calculate mean for each class\n",
    "\n",
    "# OBS: (23, 23) if drop first sample and (24, 24) for all samples\n",
    "cov_centers = empty((len(classes), 24, 24))\n",
    "for i, l in enumerate(classes):\n",
    "    cov_centers[i, :, :] = mean_riemann(cov_train[y_train == l, :, :])"
   ]
  },
  {
   "cell_type": "markdown",
   "metadata": {},
   "source": [
    "## Plotting mean covariance matrices"
   ]
  },
  {
   "cell_type": "code",
   "execution_count": null,
   "metadata": {
    "collapsed": false
   },
   "outputs": [],
   "source": [
    "plt.figure(figsize=(7, 7))\n",
    "for i, l in enumerate(classes):\n",
    "    plt.subplot(2, 2, i+1)\n",
    "    plt.imshow(cov_centers[i, :, :], cmap=plt.get_cmap('RdPu'), interpolation='nearest')\n",
    "    _ = plt.title(l)"
   ]
  },
  {
   "cell_type": "markdown",
   "metadata": {},
   "source": [
    "As seen in the previous notebook, the mean covariance matrices for each class concentrate the highest values in the block corresponding to the filtered signal in the associated bandwith. The resting signal shows high correlations split across all frequencies."
   ]
  },
  {
   "cell_type": "markdown",
   "metadata": {},
   "source": [
    "## Minimum distance to mean"
   ]
  },
  {
   "cell_type": "markdown",
   "metadata": {},
   "source": [
    "The classification scheme is simple, each test sample $\\hat{\\Sigma}$ is associated to the class with the smallest distance to mean $\\Sigma^{c}_{\\mu}$ :\n",
    "\\begin{equation}\n",
    "c^{*} = \\mathrm{argmin}_{c} \\delta(\\hat{\\Sigma}, \\Sigma^{c}_{\\mu})\n",
    "\\end{equation}\n",
    "The Riemannian distance used here is the AIRM (Affine-Invariant Riemannian metric), implemented in pyRiemann"
   ]
  },
  {
   "cell_type": "code",
   "execution_count": null,
   "metadata": {
    "collapsed": true
   },
   "outputs": [],
   "source": [
    "from pyriemann.utils.distance import distance_riemann"
   ]
  },
  {
   "cell_type": "code",
   "execution_count": null,
   "metadata": {
    "collapsed": false
   },
   "outputs": [],
   "source": [
    "accuracy = list()\n",
    "for sample, true_label in zip(cov_test, y_test):\n",
    "    dist = [distance_riemann(sample, cov_centers[m]) for m in range(len(classes))]\n",
    "    if classes[array(dist).argmin()] == true_label:\n",
    "        accuracy.append(1)\n",
    "    else: accuracy.append(0)\n",
    "test_accuracy = 100.*array(accuracy).sum()/len(y_test)\n",
    "            \n",
    "print ('Evaluation accuracy on test set is %.2f%%' % test_accuracy)"
   ]
  }
 ],
 "metadata": {
  "kernelspec": {
   "name": "Python 3.8.3 64-bit (conda)",
   "display_name": "Python 3.8.3 64-bit (conda)",
   "metadata": {
    "interpreter": {
     "hash": "8003219c8c57211ee3be347d121ba14ebad7276cdae3d94be72d9e4e17f9edd5"
    }
   }
  },
  "language_info": {
   "codemirror_mode": {
    "name": "ipython",
    "version": 2
   },
   "file_extension": ".py",
   "mimetype": "text/x-python",
   "name": "python",
   "nbconvert_exporter": "python",
   "pygments_lexer": "ipython2",
   "version": "3.8.3-final"
  }
 },
 "nbformat": 4,
 "nbformat_minor": 0
}