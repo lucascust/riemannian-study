{
 "metadata": {
  "language_info": {
   "codemirror_mode": {
    "name": "ipython",
    "version": 3
   },
   "file_extension": ".py",
   "mimetype": "text/x-python",
   "name": "python",
   "nbconvert_exporter": "python",
   "pygments_lexer": "ipython3",
   "version": "3.8.3-final"
  },
  "orig_nbformat": 2,
  "kernelspec": {
   "name": "python3",
   "display_name": "Python 3"
  }
 },
 "nbformat": 4,
 "nbformat_minor": 2,
 "cells": [
  {
   "cell_type": "code",
   "execution_count": 53,
   "metadata": {},
   "outputs": [],
   "source": [
    "# Import the necessary libraries\n",
    "\n",
    "import numpy as np\n",
    "import matplotlib.pyplot as plt\n",
    "\n",
    "# mne import\n",
    "from mne import Epochs, find_events, read_events, pick_types\n",
    "from mne.io import Raw, RawArray\n",
    "\n",
    "# pyriemann import\n",
    "from pyriemann.estimation import Covariances\n",
    "from pyriemann.tangentspace import TangentSpace\n",
    "from pyriemann.utils.viz import plot_confusion_matrix\n",
    "# cross validation\n",
    "\n",
    "from sklearn.pipeline import make_pipeline\n",
    "from sklearn.linear_model import LogisticRegression\n",
    "from sklearn.model_selection import KFold\n",
    "\n",
    "# lib to save the trained model\n",
    "import pickle\n",
    "\n",
    "# Get the dataset with the data to reproduce the real time acquisition of brain data - Pass the data for a RAW variable\n",
    "raw_fname = '../data/record-[2012.07.19-11.24.02]_raw.fif'\n",
    "raw = Raw(raw_fname, preload=True, verbose=False)\n",
    "raw.filter(2, None, method='iir') # replace baselining with high-pass\n",
    "\n",
    "# find events and generate epochs\n",
    "\n",
    "event_fname = '../data/record-[2014.03.10-19.17.37]-eve.fif'\n",
    "\n",
    "events = read_events(event_fname)\n",
    "event_id = {'13 Hz': 2, '17 Hz': 4, '21 Hz': 3, 'resting-state': 1}\n",
    "\n",
    "# Modificação de parâmetros Epoch e adicionado \"Picks\"\n",
    "# epochs = Epochs(raw, events, event_id, tmin=0, tmax=360.9, baseline=None)\n",
    "# Define time range (1 to labeled)\n",
    "tmin, tmax = -0., 1\n",
    "picks = pick_types(raw.info, eeg=True, stim=False, eog=False)\n",
    "epochs = Epochs(raw, events, event_id, tmin, tmax, picks=picks,  proj=False, baseline=None, preload=True, verbose=False)"
   ]
  },
  {
   "cell_type": "code",
   "execution_count": 54,
   "metadata": {},
   "outputs": [],
   "source": [
    "epochs_data = epochs.get_data()"
   ]
  },
  {
   "cell_type": "code",
   "execution_count": 55,
   "metadata": {},
   "outputs": [],
   "source": [
    "# Make a pipeline with riemannian geometry models\n",
    "\n",
    "clf = make_pipeline(Covariances(), TangentSpace(metric='riemann'), LogisticRegression())\n",
    "\n",
    "# Get labels\n",
    "\n",
    "labels = epochs.events[:, -1]\n",
    "\n",
    "# Call de FIT function to rain the model\n",
    "\n",
    "clf.fit(epochs_data, labels)\n",
    "\n",
    "# Save the model with pickle\n",
    "\n",
    "Trained_Model = pickle.dumps(clf)\n",
    "\n",
    "# Get the next data in \"real time\" and predict the label ['resting-state': 'resting', '13 Hz': 'forward', '21 Hz': 'right', '17 Hz': 'left']\n",
    "\n",
    "Model = pickle.loads(Trained_Model)\n"
   ]
  },
  {
   "cell_type": "code",
   "execution_count": 56,
   "metadata": {},
   "outputs": [],
   "source": [
    "# Tentativa de transformar as Epochs em matriz de covariancia para fazer o predict com dados de mesmo escopo\n",
    "# cov = Covariances().transform(epochs_data)\n",
    "# prediction = Model.predict(cov)"
   ]
  },
  {
   "cell_type": "code",
   "execution_count": 57,
   "metadata": {},
   "outputs": [],
   "source": []
  },
  {
   "cell_type": "code",
   "execution_count": 60,
   "metadata": {},
   "outputs": [],
   "source": [
    "# Transpoe matriz 3d to put samples in first index\n",
    "epochs_data_transposed = epochs_data.transpose(2,1,0)\n",
    "# Predict all samples\n",
    "prediction = Model.predict(epochs_data_transposed)\n",
    "# Predict only labeled (use 1s of time range)\n",
    "prediction_labeled = Model.predict(epochs_data)"
   ]
  },
  {
   "cell_type": "code",
   "execution_count": 59,
   "metadata": {},
   "outputs": [
    {
     "output_type": "stream",
     "name": "stdout",
     "text": [
      "[1 1 2 3 4 2 3 1 1 4 2 4 1 4 1 4 2 1 4 1 3]\n"
     ]
    }
   ],
   "source": [
    "print(prediction_labeled)"
   ]
  },
  {
   "cell_type": "code",
   "execution_count": null,
   "metadata": {},
   "outputs": [],
   "source": []
  }
 ]
}